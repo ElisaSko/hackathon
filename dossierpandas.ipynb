{
 "cells": [
  {
   "cell_type": "code",
   "execution_count": 89,
   "id": "70193088-4f08-4df6-b60d-5ef69a28ea98",
   "metadata": {},
   "outputs": [],
   "source": [
    "import pandas as pd\n",
    "import pygal\n",
    "from pygal.style import Style"
   ]
  },
  {
   "cell_type": "code",
   "execution_count": 90,
   "id": "9313b9a7-f99e-4252-90ee-5bb5ad862b8c",
   "metadata": {},
   "outputs": [],
   "source": [
    "#on récupère les données de life ladder par pays\n",
    "df=pd.read_csv('donnees_bonheur.csv')\n",
    "df2=df[(df['year']==2022)]\n",
    "df3=df2[['Country name','Life Ladder']]\n",
    "df3=df3.set_index('Country name')"
   ]
  },
  {
   "cell_type": "code",
   "execution_count": 91,
   "id": "8342e4f5-ee46-4417-9cac-bca09613cc5e",
   "metadata": {},
   "outputs": [],
   "source": [
    "#on crée un tableau reliant code pygal et life ladder\n",
    "code=pd.read_csv('Codes pays.csv',sep =';',index_col='code')\n",
    "tab=pd.merge(df3,code, left_index=True, right_on='Country name')\n",
    "tab=tab[['Life Ladder']]"
   ]
  },
  {
   "cell_type": "code",
   "execution_count": 92,
   "id": "8d7cb1f3-b932-45f3-9312-442bf25022aa",
   "metadata": {},
   "outputs": [],
   "source": [
    "#on divise les pays en 4 catégories selon la valeur de life ladder \n",
    "cat1=tab[(tab['Life Ladder']<4.5)]\n",
    "cat2=tab[(tab['Life Ladder']>=4.5) & (tab['Life Ladder']<5.5)]\n",
    "cat3=tab[(tab['Life Ladder']>=5.5) & (tab['Life Ladder']<6.5)]\n",
    "cat4=tab[(tab['Life Ladder']>=6.5)]"
   ]
  },
  {
   "cell_type": "code",
   "execution_count": 93,
   "id": "5dd035d7-6b6c-4bae-8b12-778914e99be6",
   "metadata": {},
   "outputs": [],
   "source": [
    "#on extrait les listes de codes pygal des pays dans chaque catégorie\n",
    "liste1=cat1.index\n",
    "liste2=cat2.index\n",
    "liste3=cat3.index\n",
    "liste4=cat4.index"
   ]
  },
  {
   "cell_type": "code",
   "execution_count": 94,
   "id": "498bd06b-d0a6-4867-b588-1ba096cc76ef",
   "metadata": {},
   "outputs": [],
   "source": [
    "#on crée la carte du monde\n",
    "custom_style=Style(colors= ('#000000','#FF0000','#FFD700','#00FF00'))\n",
    "worldmap=pygal.maps.world.World(style = custom_style)\n",
    "worldmap.add('[0 , 4.5]', liste1)\n",
    "worldmap.add('[4.5 , 5.5]', liste2)\n",
    "worldmap.add('[5.5 , 6.5]', liste3)\n",
    "worldmap.add('[6.5 , 10]', liste4)\n",
    "worldmap.title='Life ladder from 0 to 10 in 2022'\n",
    "worldmap.render_to_file('worldmap.svg')"
   ]
  }
 ],
 "metadata": {
  "kernelspec": {
   "display_name": "Python 3 (ipykernel)",
   "language": "python",
   "name": "python3"
  },
  "language_info": {
   "codemirror_mode": {
    "name": "ipython",
    "version": 3
   },
   "file_extension": ".py",
   "mimetype": "text/x-python",
   "name": "python",
   "nbconvert_exporter": "python",
   "pygments_lexer": "ipython3",
   "version": "3.11.4"
  }
 },
 "nbformat": 4,
 "nbformat_minor": 5
}
